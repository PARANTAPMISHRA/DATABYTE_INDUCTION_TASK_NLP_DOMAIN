{
 "cells": [
  {
   "cell_type": "markdown",
   "id": "d1f54956",
   "metadata": {},
   "source": [
    "# IMPORTNG ALL THE LIBRARIES."
   ]
  },
  {
   "cell_type": "code",
   "execution_count": 3,
   "id": "277c70a4",
   "metadata": {},
   "outputs": [],
   "source": [
    "import nltk\n",
    "import seaborn as sns\n",
    "import math\n",
    "import numpy as np\n",
    "from sklearn.metrics.pairwise import cosine_similarity\n",
    "import pandas as pd"
   ]
  },
  {
   "cell_type": "markdown",
   "id": "66967024",
   "metadata": {},
   "source": [
    "# LOADING THE DATASET."
   ]
  },
  {
   "cell_type": "code",
   "execution_count": 4,
   "id": "0214044e",
   "metadata": {},
   "outputs": [],
   "source": [
    "data=pd.read_excel(r\"C:\\Users\\pc\\OneDrive\\Desktop\\MOVIE_DATASET_FINAL..xlsx\")"
   ]
  },
  {
   "cell_type": "code",
   "execution_count": 5,
   "id": "f926549b",
   "metadata": {},
   "outputs": [],
   "source": [
    "data=data.drop('Column1',axis=1)"
   ]
  },
  {
   "cell_type": "markdown",
   "id": "2eabba26",
   "metadata": {},
   "source": [
    "CHECKING THE DATASET FOR NAN VALUES."
   ]
  },
  {
   "cell_type": "code",
   "execution_count": 6,
   "id": "d9b22f70",
   "metadata": {},
   "outputs": [
    {
     "data": {
      "text/plain": [
       "movie_id     0\n",
       "title        0\n",
       "year        23\n",
       "genre        0\n",
       "rating       0\n",
       "dtype: int64"
      ]
     },
     "execution_count": 6,
     "metadata": {},
     "output_type": "execute_result"
    }
   ],
   "source": [
    "data.isna().sum()"
   ]
  },
  {
   "cell_type": "markdown",
   "id": "93e66670",
   "metadata": {},
   "source": [
    "REMVOVIG THE NAN ROWS DUE TO AVAILABILITY OF HUGE DATASET."
   ]
  },
  {
   "cell_type": "code",
   "execution_count": 7,
   "id": "69e85892",
   "metadata": {},
   "outputs": [],
   "source": [
    "data=data.dropna()"
   ]
  },
  {
   "cell_type": "code",
   "execution_count": 8,
   "id": "bd504cb0",
   "metadata": {
    "scrolled": true
   },
   "outputs": [
    {
     "data": {
      "text/plain": [
       "(9719, 5)"
      ]
     },
     "execution_count": 8,
     "metadata": {},
     "output_type": "execute_result"
    }
   ],
   "source": [
    "data.shape"
   ]
  },
  {
   "cell_type": "code",
   "execution_count": 9,
   "id": "5f572a85",
   "metadata": {},
   "outputs": [
    {
     "data": {
      "text/html": [
       "<div>\n",
       "<style scoped>\n",
       "    .dataframe tbody tr th:only-of-type {\n",
       "        vertical-align: middle;\n",
       "    }\n",
       "\n",
       "    .dataframe tbody tr th {\n",
       "        vertical-align: top;\n",
       "    }\n",
       "\n",
       "    .dataframe thead th {\n",
       "        text-align: right;\n",
       "    }\n",
       "</style>\n",
       "<table border=\"1\" class=\"dataframe\">\n",
       "  <thead>\n",
       "    <tr style=\"text-align: right;\">\n",
       "      <th></th>\n",
       "      <th>movie_id</th>\n",
       "      <th>title</th>\n",
       "      <th>year</th>\n",
       "      <th>genre</th>\n",
       "      <th>rating</th>\n",
       "    </tr>\n",
       "  </thead>\n",
       "  <tbody>\n",
       "    <tr>\n",
       "      <th>0</th>\n",
       "      <td>1</td>\n",
       "      <td>Toy Story</td>\n",
       "      <td>1995.0</td>\n",
       "      <td>Adventure|Animation|Children|Comedy|Fantasy</td>\n",
       "      <td>3.920930</td>\n",
       "    </tr>\n",
       "    <tr>\n",
       "      <th>1</th>\n",
       "      <td>2</td>\n",
       "      <td>Jumanji</td>\n",
       "      <td>1995.0</td>\n",
       "      <td>Adventure|Children|Fantasy</td>\n",
       "      <td>3.431818</td>\n",
       "    </tr>\n",
       "    <tr>\n",
       "      <th>2</th>\n",
       "      <td>3</td>\n",
       "      <td>Grumpier Old Men</td>\n",
       "      <td>1995.0</td>\n",
       "      <td>Comedy|Romance</td>\n",
       "      <td>3.259615</td>\n",
       "    </tr>\n",
       "    <tr>\n",
       "      <th>3</th>\n",
       "      <td>4</td>\n",
       "      <td>Waiting to Exhale</td>\n",
       "      <td>1995.0</td>\n",
       "      <td>Comedy|Drama|Romance</td>\n",
       "      <td>2.357143</td>\n",
       "    </tr>\n",
       "    <tr>\n",
       "      <th>4</th>\n",
       "      <td>5</td>\n",
       "      <td>Father of the Bride Part II</td>\n",
       "      <td>1995.0</td>\n",
       "      <td>Comedy</td>\n",
       "      <td>3.071429</td>\n",
       "    </tr>\n",
       "  </tbody>\n",
       "</table>\n",
       "</div>"
      ],
      "text/plain": [
       "   movie_id                        title    year  \\\n",
       "0         1                    Toy Story  1995.0   \n",
       "1         2                      Jumanji  1995.0   \n",
       "2         3             Grumpier Old Men  1995.0   \n",
       "3         4            Waiting to Exhale  1995.0   \n",
       "4         5  Father of the Bride Part II  1995.0   \n",
       "\n",
       "                                         genre    rating  \n",
       "0  Adventure|Animation|Children|Comedy|Fantasy  3.920930  \n",
       "1                   Adventure|Children|Fantasy  3.431818  \n",
       "2                               Comedy|Romance  3.259615  \n",
       "3                         Comedy|Drama|Romance  2.357143  \n",
       "4                                       Comedy  3.071429  "
      ]
     },
     "execution_count": 9,
     "metadata": {},
     "output_type": "execute_result"
    }
   ],
   "source": [
    "data.head()"
   ]
  },
  {
   "cell_type": "code",
   "execution_count": 10,
   "id": "74c4dec1",
   "metadata": {},
   "outputs": [],
   "source": [
    "data['genre']=[i.replace('|',' ')for i in data['genre']]"
   ]
  },
  {
   "cell_type": "code",
   "execution_count": 11,
   "id": "39ab9458",
   "metadata": {},
   "outputs": [],
   "source": [
    "# CONVERTING YEAR TO STRNG TO ADD THE FEATURES.\n",
    "data['year']=[str(int(i))for i in data['year']]"
   ]
  },
  {
   "cell_type": "code",
   "execution_count": 12,
   "id": "cb0a2f52",
   "metadata": {},
   "outputs": [],
   "source": [
    "data['rating']=[str(round(i))for i in data['rating']]"
   ]
  },
  {
   "cell_type": "code",
   "execution_count": 13,
   "id": "5f6b8aa0",
   "metadata": {},
   "outputs": [
    {
     "data": {
      "text/html": [
       "<div>\n",
       "<style scoped>\n",
       "    .dataframe tbody tr th:only-of-type {\n",
       "        vertical-align: middle;\n",
       "    }\n",
       "\n",
       "    .dataframe tbody tr th {\n",
       "        vertical-align: top;\n",
       "    }\n",
       "\n",
       "    .dataframe thead th {\n",
       "        text-align: right;\n",
       "    }\n",
       "</style>\n",
       "<table border=\"1\" class=\"dataframe\">\n",
       "  <thead>\n",
       "    <tr style=\"text-align: right;\">\n",
       "      <th></th>\n",
       "      <th>movie_id</th>\n",
       "      <th>title</th>\n",
       "      <th>year</th>\n",
       "      <th>genre</th>\n",
       "      <th>rating</th>\n",
       "    </tr>\n",
       "  </thead>\n",
       "  <tbody>\n",
       "    <tr>\n",
       "      <th>0</th>\n",
       "      <td>1</td>\n",
       "      <td>Toy Story</td>\n",
       "      <td>1995</td>\n",
       "      <td>Adventure Animation Children Comedy Fantasy</td>\n",
       "      <td>4</td>\n",
       "    </tr>\n",
       "    <tr>\n",
       "      <th>1</th>\n",
       "      <td>2</td>\n",
       "      <td>Jumanji</td>\n",
       "      <td>1995</td>\n",
       "      <td>Adventure Children Fantasy</td>\n",
       "      <td>3</td>\n",
       "    </tr>\n",
       "    <tr>\n",
       "      <th>2</th>\n",
       "      <td>3</td>\n",
       "      <td>Grumpier Old Men</td>\n",
       "      <td>1995</td>\n",
       "      <td>Comedy Romance</td>\n",
       "      <td>3</td>\n",
       "    </tr>\n",
       "    <tr>\n",
       "      <th>3</th>\n",
       "      <td>4</td>\n",
       "      <td>Waiting to Exhale</td>\n",
       "      <td>1995</td>\n",
       "      <td>Comedy Drama Romance</td>\n",
       "      <td>2</td>\n",
       "    </tr>\n",
       "    <tr>\n",
       "      <th>4</th>\n",
       "      <td>5</td>\n",
       "      <td>Father of the Bride Part II</td>\n",
       "      <td>1995</td>\n",
       "      <td>Comedy</td>\n",
       "      <td>3</td>\n",
       "    </tr>\n",
       "  </tbody>\n",
       "</table>\n",
       "</div>"
      ],
      "text/plain": [
       "   movie_id                        title  year  \\\n",
       "0         1                    Toy Story  1995   \n",
       "1         2                      Jumanji  1995   \n",
       "2         3             Grumpier Old Men  1995   \n",
       "3         4            Waiting to Exhale  1995   \n",
       "4         5  Father of the Bride Part II  1995   \n",
       "\n",
       "                                         genre rating  \n",
       "0  Adventure Animation Children Comedy Fantasy      4  \n",
       "1                   Adventure Children Fantasy      3  \n",
       "2                               Comedy Romance      3  \n",
       "3                         Comedy Drama Romance      2  \n",
       "4                                       Comedy      3  "
      ]
     },
     "execution_count": 13,
     "metadata": {},
     "output_type": "execute_result"
    }
   ],
   "source": [
    "data.head()"
   ]
  },
  {
   "cell_type": "code",
   "execution_count": 14,
   "id": "f6f3ff8d",
   "metadata": {},
   "outputs": [],
   "source": [
    "data['model_feature']= data['genre']+\" \"+data['title']"
   ]
  },
  {
   "cell_type": "code",
   "execution_count": 15,
   "id": "9ac889fb",
   "metadata": {},
   "outputs": [
    {
     "data": {
      "text/html": [
       "<div>\n",
       "<style scoped>\n",
       "    .dataframe tbody tr th:only-of-type {\n",
       "        vertical-align: middle;\n",
       "    }\n",
       "\n",
       "    .dataframe tbody tr th {\n",
       "        vertical-align: top;\n",
       "    }\n",
       "\n",
       "    .dataframe thead th {\n",
       "        text-align: right;\n",
       "    }\n",
       "</style>\n",
       "<table border=\"1\" class=\"dataframe\">\n",
       "  <thead>\n",
       "    <tr style=\"text-align: right;\">\n",
       "      <th></th>\n",
       "      <th>movie_id</th>\n",
       "      <th>title</th>\n",
       "      <th>year</th>\n",
       "      <th>genre</th>\n",
       "      <th>rating</th>\n",
       "      <th>model_feature</th>\n",
       "    </tr>\n",
       "  </thead>\n",
       "  <tbody>\n",
       "    <tr>\n",
       "      <th>0</th>\n",
       "      <td>1</td>\n",
       "      <td>Toy Story</td>\n",
       "      <td>1995</td>\n",
       "      <td>Adventure Animation Children Comedy Fantasy</td>\n",
       "      <td>4</td>\n",
       "      <td>Adventure Animation Children Comedy Fantasy To...</td>\n",
       "    </tr>\n",
       "    <tr>\n",
       "      <th>1</th>\n",
       "      <td>2</td>\n",
       "      <td>Jumanji</td>\n",
       "      <td>1995</td>\n",
       "      <td>Adventure Children Fantasy</td>\n",
       "      <td>3</td>\n",
       "      <td>Adventure Children Fantasy Jumanji</td>\n",
       "    </tr>\n",
       "    <tr>\n",
       "      <th>2</th>\n",
       "      <td>3</td>\n",
       "      <td>Grumpier Old Men</td>\n",
       "      <td>1995</td>\n",
       "      <td>Comedy Romance</td>\n",
       "      <td>3</td>\n",
       "      <td>Comedy Romance Grumpier Old Men</td>\n",
       "    </tr>\n",
       "    <tr>\n",
       "      <th>3</th>\n",
       "      <td>4</td>\n",
       "      <td>Waiting to Exhale</td>\n",
       "      <td>1995</td>\n",
       "      <td>Comedy Drama Romance</td>\n",
       "      <td>2</td>\n",
       "      <td>Comedy Drama Romance Waiting to Exhale</td>\n",
       "    </tr>\n",
       "    <tr>\n",
       "      <th>4</th>\n",
       "      <td>5</td>\n",
       "      <td>Father of the Bride Part II</td>\n",
       "      <td>1995</td>\n",
       "      <td>Comedy</td>\n",
       "      <td>3</td>\n",
       "      <td>Comedy Father of the Bride Part II</td>\n",
       "    </tr>\n",
       "  </tbody>\n",
       "</table>\n",
       "</div>"
      ],
      "text/plain": [
       "   movie_id                        title  year  \\\n",
       "0         1                    Toy Story  1995   \n",
       "1         2                      Jumanji  1995   \n",
       "2         3             Grumpier Old Men  1995   \n",
       "3         4            Waiting to Exhale  1995   \n",
       "4         5  Father of the Bride Part II  1995   \n",
       "\n",
       "                                         genre rating  \\\n",
       "0  Adventure Animation Children Comedy Fantasy      4   \n",
       "1                   Adventure Children Fantasy      3   \n",
       "2                               Comedy Romance      3   \n",
       "3                         Comedy Drama Romance      2   \n",
       "4                                       Comedy      3   \n",
       "\n",
       "                                       model_feature  \n",
       "0  Adventure Animation Children Comedy Fantasy To...  \n",
       "1                 Adventure Children Fantasy Jumanji  \n",
       "2                    Comedy Romance Grumpier Old Men  \n",
       "3             Comedy Drama Romance Waiting to Exhale  \n",
       "4                 Comedy Father of the Bride Part II  "
      ]
     },
     "execution_count": 15,
     "metadata": {},
     "output_type": "execute_result"
    }
   ],
   "source": [
    "data.head()"
   ]
  },
  {
   "cell_type": "code",
   "execution_count": 16,
   "id": "e9314b27",
   "metadata": {},
   "outputs": [],
   "source": [
    "featured_data=pd.DataFrame(data)"
   ]
  },
  {
   "cell_type": "code",
   "execution_count": 17,
   "id": "723eef9a",
   "metadata": {},
   "outputs": [
    {
     "data": {
      "text/plain": [
       "(9719, 6)"
      ]
     },
     "execution_count": 17,
     "metadata": {},
     "output_type": "execute_result"
    }
   ],
   "source": [
    "featured_data.shape"
   ]
  },
  {
   "cell_type": "markdown",
   "id": "419e112c",
   "metadata": {},
   "source": [
    "# LOADING THE LINK DATASET TO GET THE TMDb ID OF A MOVIE WHICH IS USED TO GET THE POSTER LINK FROM THE TMDb API."
   ]
  },
  {
   "cell_type": "code",
   "execution_count": 18,
   "id": "d7723220",
   "metadata": {},
   "outputs": [
    {
     "data": {
      "text/plain": [
       "(9742, 3)"
      ]
     },
     "execution_count": 18,
     "metadata": {},
     "output_type": "execute_result"
    }
   ],
   "source": [
    "link=pd.read_csv(r\"C:\\Users\\pc\\Downloads\\ml-latest-small\\ml-latest-small\\links.csv\")\n",
    "d=np.array(link)\n",
    "link.shape"
   ]
  },
  {
   "cell_type": "code",
   "execution_count": 19,
   "id": "18f6ab0d",
   "metadata": {},
   "outputs": [
    {
     "data": {
      "text/html": [
       "<div>\n",
       "<style scoped>\n",
       "    .dataframe tbody tr th:only-of-type {\n",
       "        vertical-align: middle;\n",
       "    }\n",
       "\n",
       "    .dataframe tbody tr th {\n",
       "        vertical-align: top;\n",
       "    }\n",
       "\n",
       "    .dataframe thead th {\n",
       "        text-align: right;\n",
       "    }\n",
       "</style>\n",
       "<table border=\"1\" class=\"dataframe\">\n",
       "  <thead>\n",
       "    <tr style=\"text-align: right;\">\n",
       "      <th></th>\n",
       "      <th>movieId</th>\n",
       "      <th>imdbId</th>\n",
       "      <th>tmdbId</th>\n",
       "    </tr>\n",
       "  </thead>\n",
       "  <tbody>\n",
       "    <tr>\n",
       "      <th>0</th>\n",
       "      <td>1</td>\n",
       "      <td>114709</td>\n",
       "      <td>862.0</td>\n",
       "    </tr>\n",
       "    <tr>\n",
       "      <th>1</th>\n",
       "      <td>2</td>\n",
       "      <td>113497</td>\n",
       "      <td>8844.0</td>\n",
       "    </tr>\n",
       "    <tr>\n",
       "      <th>2</th>\n",
       "      <td>3</td>\n",
       "      <td>113228</td>\n",
       "      <td>15602.0</td>\n",
       "    </tr>\n",
       "    <tr>\n",
       "      <th>3</th>\n",
       "      <td>4</td>\n",
       "      <td>114885</td>\n",
       "      <td>31357.0</td>\n",
       "    </tr>\n",
       "    <tr>\n",
       "      <th>4</th>\n",
       "      <td>5</td>\n",
       "      <td>113041</td>\n",
       "      <td>11862.0</td>\n",
       "    </tr>\n",
       "  </tbody>\n",
       "</table>\n",
       "</div>"
      ],
      "text/plain": [
       "   movieId  imdbId   tmdbId\n",
       "0        1  114709    862.0\n",
       "1        2  113497   8844.0\n",
       "2        3  113228  15602.0\n",
       "3        4  114885  31357.0\n",
       "4        5  113041  11862.0"
      ]
     },
     "execution_count": 19,
     "metadata": {},
     "output_type": "execute_result"
    }
   ],
   "source": [
    "link.head()"
   ]
  },
  {
   "cell_type": "code",
   "execution_count": 20,
   "id": "db1a4699",
   "metadata": {},
   "outputs": [
    {
     "data": {
      "text/plain": [
       "[791, 1107, 2851, 4051, 26587, 32600, 40697, 79299]"
      ]
     },
     "execution_count": 20,
     "metadata": {},
     "output_type": "execute_result"
    }
   ],
   "source": [
    "c=0\n",
    "idx=[]\n",
    "for i in np.array(link.isna()): # THIS WILL AN NUMPY ARRAY WITH INDEX AND WEATHER THE ROW HAS 'TRUE' NAN OR 'FALSE' NOT HAVE NAN.\n",
    "\n",
    "     if i[2]== True:\n",
    "        idx.append(c) # ADDING THSOE VALUES WHICH ARE HAVING NAN VALUES TO REMVOE FROM LINK AS WELL AS THE MOVIE DATASET LOADED INITIALLY.\n",
    "     c=c+1 \n",
    "\n",
    "d=[int(link.iloc[i].movieId) for i in idx] # TAKING THE MOVIE ID OF THE ROW WHCIH CONTAINED THE NAN VALUE SO THAT WE CAN FIND THOSE MOVIES ON THE BASIS OF MOVIE-ID AND THEN REMOVE THEM.\n",
    "d"
   ]
  },
  {
   "cell_type": "code",
   "execution_count": 21,
   "id": "f0d9e9dc",
   "metadata": {},
   "outputs": [
    {
     "name": "stdout",
     "output_type": "stream",
     "text": [
      "yes\n",
      "yes\n",
      "yes\n",
      "yes\n",
      "yes\n",
      "yes\n",
      "yes\n"
     ]
    }
   ],
   "source": [
    "movie_id=[]\n",
    "for i in np.array(featured_data['movie_id']):\n",
    "    if i in d:\n",
    "        print('yes')\n",
    "    else:\n",
    "        movie_id.append(i)"
   ]
  },
  {
   "cell_type": "markdown",
   "id": "ecf4dace",
   "metadata": {},
   "source": [
    "SO OUT OF 8 MOVIES WHICH WERE HAVING NAN VALUES IN THE LINK DATASET 7 ARE THERE IN THE FEATURED_DATASET."
   ]
  },
  {
   "cell_type": "code",
   "execution_count": 22,
   "id": "df37b5a5",
   "metadata": {},
   "outputs": [
    {
     "data": {
      "text/plain": [
       "9712"
      ]
     },
     "execution_count": 22,
     "metadata": {},
     "output_type": "execute_result"
    }
   ],
   "source": [
    "len(movie_id)"
   ]
  },
  {
   "cell_type": "markdown",
   "id": "caf22973",
   "metadata": {},
   "source": [
    "CREATING A LIST FOR TMDB-ID FOR MOVIES WHICH WERE THERE IN THE FEATURED DATASET AND ALSO WHICH ARE NOT HAVING VALUES OF NAN IN LINK DATASET."
   ]
  },
  {
   "cell_type": "code",
   "execution_count": 23,
   "id": "b09b125d",
   "metadata": {},
   "outputs": [],
   "source": [
    "TMDb_id= [i[2] for i in np.array(link) if i[0] in movie_id]\n",
    "         "
   ]
  },
  {
   "cell_type": "markdown",
   "id": "53e931be",
   "metadata": {},
   "source": [
    "CREATING THE DATAFRAME FOR THE TMDbID."
   ]
  },
  {
   "cell_type": "code",
   "execution_count": 24,
   "id": "74fc82a3",
   "metadata": {},
   "outputs": [],
   "source": [
    "pd.DataFrame(TMDb_id).to_pickle('TMDbId.pkl')"
   ]
  },
  {
   "cell_type": "code",
   "execution_count": 25,
   "id": "5896b952",
   "metadata": {},
   "outputs": [
    {
     "name": "stdout",
     "output_type": "stream",
     "text": [
      "[]\n"
     ]
    },
    {
     "name": "stderr",
     "output_type": "stream",
     "text": [
      "c:\\Users\\pc\\anaconda3\\lib\\site-packages\\pandas\\core\\indexes\\base.py:5069: FutureWarning: Using a non-tuple sequence for multidimensional indexing is deprecated; use `arr[tuple(seq)]` instead of `arr[seq]`. In the future this will be interpreted as an array index, `arr[np.array(seq)]`, which will result either in an error or a different result.\n",
      "  result = getitem(key)\n"
     ]
    },
    {
     "data": {
      "text/plain": [
       "[array([624], dtype=int64),\n",
       " array([843], dtype=int64),\n",
       " array([2141], dtype=int64),\n",
       " array([3027], dtype=int64),\n",
       " array([5532], dtype=int64),\n",
       " array([5854], dtype=int64),\n",
       " array([7382], dtype=int64)]"
      ]
     },
     "execution_count": 25,
     "metadata": {},
     "output_type": "execute_result"
    }
   ],
   "source": [
    "d1=[]\n",
    "for i in d:\n",
    "    d1.append(np.array(featured_data.index[[featured_data['movie_id']==i]]))  # FINDING THE ROW OF THE GIVEN MOVIES WHCIH ARE HAVING NAN IN LINK DATASET.\n",
    "print(d1[6])\n",
    "del d1[6]\n",
    "d1"
   ]
  },
  {
   "cell_type": "code",
   "execution_count": 26,
   "id": "b4b58809",
   "metadata": {},
   "outputs": [],
   "source": [
    "# APPENDIG ALL THESE INDEX IN THE g LIST SO THAT WE CAN REMOVE THOSE SPECIFIC ROWS FROM THE FEATURED DATASET AND THUS CREATE THE FINAL DATASET. \n",
    "g=[]\n",
    "for i in range(0,len(d1)):\n",
    "        g.append(int((d1[i][0])))\n",
    "    "
   ]
  },
  {
   "cell_type": "markdown",
   "id": "b9a06dff",
   "metadata": {},
   "source": [
    "REMOVING THE ROW AND CREATING A FINAL DATASET."
   ]
  },
  {
   "cell_type": "code",
   "execution_count": 27,
   "id": "7d1d3441",
   "metadata": {},
   "outputs": [],
   "source": [
    "featured_data.drop(g,axis=0,inplace=True)"
   ]
  },
  {
   "cell_type": "code",
   "execution_count": 28,
   "id": "86d46652",
   "metadata": {},
   "outputs": [
    {
     "data": {
      "text/html": [
       "<div>\n",
       "<style scoped>\n",
       "    .dataframe tbody tr th:only-of-type {\n",
       "        vertical-align: middle;\n",
       "    }\n",
       "\n",
       "    .dataframe tbody tr th {\n",
       "        vertical-align: top;\n",
       "    }\n",
       "\n",
       "    .dataframe thead th {\n",
       "        text-align: right;\n",
       "    }\n",
       "</style>\n",
       "<table border=\"1\" class=\"dataframe\">\n",
       "  <thead>\n",
       "    <tr style=\"text-align: right;\">\n",
       "      <th></th>\n",
       "      <th>movie_id</th>\n",
       "      <th>title</th>\n",
       "      <th>year</th>\n",
       "      <th>genre</th>\n",
       "      <th>rating</th>\n",
       "      <th>model_feature</th>\n",
       "    </tr>\n",
       "  </thead>\n",
       "  <tbody>\n",
       "    <tr>\n",
       "      <th>0</th>\n",
       "      <td>1</td>\n",
       "      <td>Toy Story</td>\n",
       "      <td>1995</td>\n",
       "      <td>Adventure Animation Children Comedy Fantasy</td>\n",
       "      <td>4</td>\n",
       "      <td>Adventure Animation Children Comedy Fantasy To...</td>\n",
       "    </tr>\n",
       "    <tr>\n",
       "      <th>1</th>\n",
       "      <td>2</td>\n",
       "      <td>Jumanji</td>\n",
       "      <td>1995</td>\n",
       "      <td>Adventure Children Fantasy</td>\n",
       "      <td>3</td>\n",
       "      <td>Adventure Children Fantasy Jumanji</td>\n",
       "    </tr>\n",
       "    <tr>\n",
       "      <th>2</th>\n",
       "      <td>3</td>\n",
       "      <td>Grumpier Old Men</td>\n",
       "      <td>1995</td>\n",
       "      <td>Comedy Romance</td>\n",
       "      <td>3</td>\n",
       "      <td>Comedy Romance Grumpier Old Men</td>\n",
       "    </tr>\n",
       "    <tr>\n",
       "      <th>3</th>\n",
       "      <td>4</td>\n",
       "      <td>Waiting to Exhale</td>\n",
       "      <td>1995</td>\n",
       "      <td>Comedy Drama Romance</td>\n",
       "      <td>2</td>\n",
       "      <td>Comedy Drama Romance Waiting to Exhale</td>\n",
       "    </tr>\n",
       "    <tr>\n",
       "      <th>4</th>\n",
       "      <td>5</td>\n",
       "      <td>Father of the Bride Part II</td>\n",
       "      <td>1995</td>\n",
       "      <td>Comedy</td>\n",
       "      <td>3</td>\n",
       "      <td>Comedy Father of the Bride Part II</td>\n",
       "    </tr>\n",
       "  </tbody>\n",
       "</table>\n",
       "</div>"
      ],
      "text/plain": [
       "   movie_id                        title  year  \\\n",
       "0         1                    Toy Story  1995   \n",
       "1         2                      Jumanji  1995   \n",
       "2         3             Grumpier Old Men  1995   \n",
       "3         4            Waiting to Exhale  1995   \n",
       "4         5  Father of the Bride Part II  1995   \n",
       "\n",
       "                                         genre rating  \\\n",
       "0  Adventure Animation Children Comedy Fantasy      4   \n",
       "1                   Adventure Children Fantasy      3   \n",
       "2                               Comedy Romance      3   \n",
       "3                         Comedy Drama Romance      2   \n",
       "4                                       Comedy      3   \n",
       "\n",
       "                                       model_feature  \n",
       "0  Adventure Animation Children Comedy Fantasy To...  \n",
       "1                 Adventure Children Fantasy Jumanji  \n",
       "2                    Comedy Romance Grumpier Old Men  \n",
       "3             Comedy Drama Romance Waiting to Exhale  \n",
       "4                 Comedy Father of the Bride Part II  "
      ]
     },
     "execution_count": 28,
     "metadata": {},
     "output_type": "execute_result"
    }
   ],
   "source": [
    "featured_data.head()"
   ]
  },
  {
   "cell_type": "markdown",
   "id": "0c5a4b08",
   "metadata": {},
   "source": [
    "# CREATING THE CORPUS FOR THE CREATED MODLE FEATURES."
   ]
  },
  {
   "cell_type": "code",
   "execution_count": 29,
   "id": "bff05fb7",
   "metadata": {},
   "outputs": [],
   "source": [
    "corpus=[]\n",
    "a=featured_data['model_feature'].apply(lambda x:corpus.append(x))\n",
    "#corpus created would be in the form of list."
   ]
  },
  {
   "cell_type": "markdown",
   "id": "44305ec4",
   "metadata": {},
   "source": [
    "CONVERTING THE CORPUS INTO THE STRING FORMAT SO THAT I CAN SPLIT THE WORDS AND THEN CREATE A VOCABULARY OUT OF THESE FOLLOWING CORPUS."
   ]
  },
  {
   "cell_type": "code",
   "execution_count": 30,
   "id": "e63014ed",
   "metadata": {},
   "outputs": [],
   "source": [
    "corpus_=' '.join(corpus)"
   ]
  },
  {
   "cell_type": "markdown",
   "id": "7c581875",
   "metadata": {},
   "source": [
    "# CREATNIG THE CORPUS DICTIONARY OR THE VOCABULARY."
   ]
  },
  {
   "cell_type": "code",
   "execution_count": 31,
   "id": "7178731c",
   "metadata": {},
   "outputs": [],
   "source": [
    "corpus_dictionary=sorted(list(set(corpus_.split(' '))))\n",
    "corpus_dictionary=list(enumerate(corpus_dictionary))"
   ]
  },
  {
   "cell_type": "markdown",
   "id": "5e6eebd8",
   "metadata": {},
   "source": [
    "# INITIALIZING THE VECTORS DIMENSIONS TO APPLY BAG OF WORDS."
   ]
  },
  {
   "cell_type": "code",
   "execution_count": 32,
   "id": "a34b4792",
   "metadata": {},
   "outputs": [],
   "source": [
    "vectors=np.zeros((featured_data.shape[0],len(corpus_dictionary)))"
   ]
  },
  {
   "cell_type": "markdown",
   "id": "580a38cd",
   "metadata": {},
   "source": [
    "# APPLYING THE BAG OF WORDS AND CREATING THE VECTORS."
   ]
  },
  {
   "cell_type": "code",
   "execution_count": 33,
   "id": "583196b2",
   "metadata": {},
   "outputs": [],
   "source": [
    "for i in range(0,9712,1):\n",
    "    for word in corpus_dictionary:\n",
    "        if word[1] in corpus[i].split(' '):\n",
    "            \n",
    "            vectors[i][word[0]]=1\n",
    "        else:\n",
    "            vectors[i][word[0]]=0\n",
    "    "
   ]
  },
  {
   "cell_type": "markdown",
   "id": "0634aac3",
   "metadata": {},
   "source": [
    "# CREATING THE CLASS FOR THE KNN MODEL."
   ]
  },
  {
   "cell_type": "code",
   "execution_count": 34,
   "id": "3afb1c9e",
   "metadata": {},
   "outputs": [],
   "source": [
    "class KNearestNeighbours():\n",
    "    def __init__(self,k=6):\n",
    "        self.k=k\n",
    "    def initilize_dataset(self,X):\n",
    "        self.x=X\n",
    "        self.similarity=self.cosine_similarity(self.x)\n",
    "        return(self.similarity)\n",
    "        \n",
    "    def cosine_similarity(self,x):\n",
    "        csv=cosine_similarity(x)\n",
    "        return(csv)\n",
    "    def recomend(self,movie):\n",
    "        movie_index=featured_data[featured_data['title']==movie].index[0]\n",
    "        movie_distance=self.similarity[movie_index]\n",
    "        movie_list=sorted(list(enumerate(movie_distance)),reverse=True,key=lambda x:x[1])[1:self.k]\n",
    "        for i in movie_list:\n",
    "            print(featured_data.iloc[i[0]].title)"
   ]
  },
  {
   "cell_type": "markdown",
   "id": "5ba7b1ff",
   "metadata": {},
   "source": [
    "# CREATING THE OBJECT AND USING IT'S ATTRIBUTES."
   ]
  },
  {
   "cell_type": "code",
   "execution_count": 35,
   "id": "5db97a72",
   "metadata": {},
   "outputs": [],
   "source": [
    "KNN=KNearestNeighbours(7)\n",
    "similarity_vectors=KNN.initilize_dataset(vectors)"
   ]
  },
  {
   "cell_type": "code",
   "execution_count": 36,
   "id": "8d6a39f3",
   "metadata": {},
   "outputs": [
    {
     "data": {
      "text/plain": [
       "(9712, 9712)"
      ]
     },
     "execution_count": 36,
     "metadata": {},
     "output_type": "execute_result"
    }
   ],
   "source": [
    "similarity_vectors.shape"
   ]
  },
  {
   "cell_type": "markdown",
   "id": "f656ebb4",
   "metadata": {},
   "source": [
    "# RECOMMENDING THE MOVIES."
   ]
  },
  {
   "cell_type": "code",
   "execution_count": 37,
   "id": "00577b48",
   "metadata": {},
   "outputs": [
    {
     "name": "stdout",
     "output_type": "stream",
     "text": [
      "Toy Story 2\n",
      "Toy Story 3\n",
      "Antz\n",
      "Turbo\n",
      "Moana\n",
      "Shrek\n"
     ]
    }
   ],
   "source": [
    "KNN.recomend(\"Toy Story\")"
   ]
  },
  {
   "cell_type": "markdown",
   "id": "d4be52e6",
   "metadata": {},
   "source": [
    "# STORING THE SIMILARITY VECTORS FOR FLASK APP IMPLEMENTATION."
   ]
  },
  {
   "cell_type": "code",
   "execution_count": 38,
   "id": "1ddb26f6",
   "metadata": {},
   "outputs": [],
   "source": [
    "pd.DataFrame(similarity_vectors).to_pickle('vectors.pkl')"
   ]
  },
  {
   "cell_type": "code",
   "execution_count": 39,
   "id": "ebf4bc9b",
   "metadata": {},
   "outputs": [],
   "source": [
    "movie_names=[]\n",
    "for i in np.array(featured_data):\n",
    "    if i[0] in movie_id:\n",
    "        movie_names.append(i[1])"
   ]
  },
  {
   "cell_type": "code",
   "execution_count": 40,
   "id": "dff07f86",
   "metadata": {},
   "outputs": [],
   "source": [
    "pd.DataFrame(movie_names).to_pickle('movie_names.pkl')"
   ]
  },
  {
   "cell_type": "code",
   "execution_count": 41,
   "id": "84059423",
   "metadata": {},
   "outputs": [],
   "source": [
    "similarity=np.array(pd.read_pickle(r'C:\\Users\\pc\\OneDrive\\Desktop\\MOVIE RECOMENDATION SYSTEM\\model\\vectors.pkl'))"
   ]
  },
  {
   "cell_type": "code",
   "execution_count": 42,
   "id": "8e5fbc5d",
   "metadata": {},
   "outputs": [
    {
     "data": {
      "text/plain": [
       "(9712, 9712)"
      ]
     },
     "execution_count": 42,
     "metadata": {},
     "output_type": "execute_result"
    }
   ],
   "source": [
    "similarity.shape"
   ]
  },
  {
   "cell_type": "code",
   "execution_count": 43,
   "id": "d9b127b0",
   "metadata": {},
   "outputs": [],
   "source": [
    "a=pd.read_pickle(r'C:\\Users\\pc\\OneDrive\\Desktop\\MOVIE_LENS\\MODEL\\TMDbId.pkl')"
   ]
  },
  {
   "cell_type": "code",
   "execution_count": 44,
   "id": "7152fc3d",
   "metadata": {},
   "outputs": [
    {
     "data": {
      "text/plain": [
       "array([[   862.],\n",
       "       [  8844.],\n",
       "       [ 15602.],\n",
       "       ...,\n",
       "       [479308.],\n",
       "       [483455.],\n",
       "       [ 37891.]])"
      ]
     },
     "execution_count": 44,
     "metadata": {},
     "output_type": "execute_result"
    }
   ],
   "source": [
    "np.array(a)"
   ]
  },
  {
   "cell_type": "code",
   "execution_count": null,
   "id": "d9609dbe",
   "metadata": {},
   "outputs": [],
   "source": []
  }
 ],
 "metadata": {
  "kernelspec": {
   "display_name": "Python 3 (ipykernel)",
   "language": "python",
   "name": "python3"
  },
  "language_info": {
   "codemirror_mode": {
    "name": "ipython",
    "version": 3
   },
   "file_extension": ".py",
   "mimetype": "text/x-python",
   "name": "python",
   "nbconvert_exporter": "python",
   "pygments_lexer": "ipython3",
   "version": "3.9.13"
  }
 },
 "nbformat": 4,
 "nbformat_minor": 5
}
